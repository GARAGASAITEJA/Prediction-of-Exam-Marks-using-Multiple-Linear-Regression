{
 "cells": [
  {
   "cell_type": "code",
   "execution_count": 6,
   "metadata": {},
   "outputs": [
    {
     "name": "stdout",
     "output_type": "stream",
     "text": [
      "     hours  age  internet  marks\n",
      "0     6.83   15         1  78.50\n",
      "1     6.56   16         0  76.74\n",
      "2      NaN   17         1  78.68\n",
      "3     5.67   18         0  71.82\n",
      "4     8.67   19         1  84.19\n",
      "..     ...  ...       ...    ...\n",
      "196   8.56   19         1  84.68\n",
      "197   8.94   20         1  86.75\n",
      "198   6.60   15         1  78.05\n",
      "199   8.35   16         1  83.50\n",
      "200   4.15   15         0  81.45\n",
      "\n",
      "[201 rows x 4 columns]\n",
      "     hours  age  internet  marks\n",
      "0     6.83   15         1  78.50\n",
      "1     6.56   16         0  76.74\n",
      "2     7.11   17         1  78.68\n",
      "3     5.67   18         0  71.82\n",
      "4     8.67   19         1  84.19\n",
      "..     ...  ...       ...    ...\n",
      "196   8.56   19         1  84.68\n",
      "197   8.94   20         1  86.75\n",
      "198   6.60   15         1  78.05\n",
      "199   8.35   16         1  83.50\n",
      "200   4.15   15         0  81.45\n",
      "\n",
      "[201 rows x 4 columns]\n",
      "     hours  age  internet\n",
      "0     6.83   15         1\n",
      "1     6.56   16         0\n",
      "2     7.11   17         1\n",
      "3     5.67   18         0\n",
      "4     8.67   19         1\n",
      "..     ...  ...       ...\n",
      "196   8.56   19         1\n",
      "197   8.94   20         1\n",
      "198   6.60   15         1\n",
      "199   8.35   16         1\n",
      "200   4.15   15         0\n",
      "\n",
      "[201 rows x 3 columns]\n",
      "     marks\n",
      "0    78.50\n",
      "1    76.74\n",
      "2    78.68\n",
      "3    71.82\n",
      "4    84.19\n",
      "..     ...\n",
      "196  84.68\n",
      "197  86.75\n",
      "198  78.05\n",
      "199  83.50\n",
      "200  81.45\n",
      "\n",
      "[201 rows x 1 columns]\n",
      "[[77.27816646]]\n",
      "[52.04338426]\n",
      "[[ 3.76001905 -0.01855202 -0.05506707]]\n"
     ]
    }
   ],
   "source": [
    "import pandas as pd\n",
    "import sklearn\n",
    "from sklearn import linear_model\n",
    "\n",
    "path =\"C:\\\\Users\\\\VAIO\\\\Desktop\\\\PYQT5\\\\new datasets\\\\12_ExamMarkPrediction_LINEARREGRESSION_MULTIPLEVARIABLES\\\\data.csv\"\n",
    "data = pd.read_csv(path)\n",
    "print(data)\n",
    "\n",
    "data.hours = data.hours.fillna(data.hours.median())\n",
    "print(data)\n",
    "\n",
    "inputs = data.drop('marks','columns')\n",
    "output = data.drop(['hours','age','internet'],'columns')\n",
    "print(inputs)\n",
    "print(output)\n",
    "\n",
    "model = linear_model.LinearRegression() #initializing the model\n",
    "model.fit(inputs,output) #trained\n",
    "\n",
    "print(model.predict([[6.8,15,1]]))\n",
    "model.score(inputs,output) #accuracy\n",
    "print(model.intercept_)\n",
    "print(model.coef_)"
   ]
  },
  {
   "cell_type": "code",
   "execution_count": null,
   "metadata": {},
   "outputs": [],
   "source": []
  }
 ],
 "metadata": {
  "kernelspec": {
   "display_name": "Python 3",
   "language": "python",
   "name": "python3"
  },
  "language_info": {
   "codemirror_mode": {
    "name": "ipython",
    "version": 3
   },
   "file_extension": ".py",
   "mimetype": "text/x-python",
   "name": "python",
   "nbconvert_exporter": "python",
   "pygments_lexer": "ipython3",
   "version": "3.7.6"
  }
 },
 "nbformat": 4,
 "nbformat_minor": 4
}
